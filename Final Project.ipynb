{
 "cells": [
  {
   "cell_type": "markdown",
   "id": "de4a989e",
   "metadata": {},
   "source": [
    "## Fontes de Dados\n",
    "\n",
    "### Our World in Data ([fonte](https://ourworldindata.org/co2-emissions))\n",
    "\n",
    "- Emissão de CO<sub>2</sub> em milhões de toneladas (2015 para Cuba, Coreia do Norte e Palestina, 2016 par países restantes)\n",
    "- PIB em dólares ajustdo para inflação de 2011 (2015 para Cuba, Coreia do Norte e Palestina, 2016 par países restantes)\n",
    "- População (2015 para Cuba, Coreia do Norte e Palestina, 2016 par países restantes)\n",
    "\n",
    "### ONU ([fonte](http://hdr.undp.org/en/indicators))\n",
    "\n",
    "- **Índice de gini de distribuição de renda familiar (anos variados)**\n",
    "- IDH (2019)\n",
    "- Porcentagem da população residindo em áreas urbanas (2019)\n",
    "- Porcentagem da variação na área de floresta (diferença entre 1990 e 2016)\n",
    "- **Porcentagem da energia consumida proveniente de combustíveis fósseis (anos variados)**\n",
    "- Porcentagem do Rendimento Nacional Bruto derivado da extração de recursos naturais (anos variados)\n",
    "- Índice de desigualdade de gênero (2019)\n",
    "- Expectativa de vida no nascimento (2019)\n",
    "- **Porcentagem da população vivendo abaixo da linha da pobreza (anos variados)**\n",
    "- **Porcentagem do PIB investido em pesquisa e desenvolvimento (anos variados)**\n",
    "- **Proporção dos gastos públicos em educação e saúde sobre gastos militares (anos variados)**\n",
    "- Porcentagem de importações e exportações sobre o PIB (anos variados)\n",
    "- **Índice de desemprego (2019)**\n",
    "\n",
    "### Center for Systemic Peace ([fonte](https://www.systemicpeace.org/polityproject.html))\n",
    "\n",
    "- Polity Score, índice que avalia o nível de democracia de cada país - removemos países com valores especiais para evitar interferência na regressão (2018)\n",
    "\n",
    "### Repórteres sem Fronteira ([fonte](https://rsf.org/en/ranking))\n",
    "\n",
    "- Índice de liberdade de imprensa (2021)\n",
    "\n",
    "**Dados em negrito estão disponíveis para menos de 90% dos países selecionados**"
   ]
  },
  {
   "cell_type": "code",
   "execution_count": 1,
   "id": "66840bd8",
   "metadata": {},
   "outputs": [
    {
     "name": "stdout",
     "output_type": "stream",
     "text": [
      "Países: 164\n"
     ]
    }
   ],
   "source": [
    "import json\n",
    "import csv\n",
    "\n",
    "data = {}\n",
    "\n",
    "co2_file_path = \"owid-co2-data.json\"\n",
    "with open(co2_file_path, 'r') as json_file:\n",
    "    co2_data = json.load(json_file)\n",
    "    for key in co2_data.keys():\n",
    "        if 'iso_code' in co2_data[key] and key != 'World':\n",
    "            for i in range(len(co2_data[key]['data'])):\n",
    "                if 'co2' in co2_data[key]['data'][i] and 'gdp' in co2_data[key]['data'][i] \\\n",
    "                        and 'population' in co2_data[key]['data'][i]:\n",
    "                    data[co2_data[key]['iso_code']] = {\n",
    "                        'name': key,\n",
    "                        'co2_emissions': co2_data[key]['data'][i]['co2'],\n",
    "                        'gdp': co2_data[key]['data'][i]['gdp'],\n",
    "                        'population': co2_data[key]['data'][i]['population']               \n",
    "                    }\n",
    "\n",
    "X_fields = ['gdp', 'population']\n",
    "                   \n",
    "def get_iso3_from_country_name(country_name):\n",
    "    iso3 = [key for key, values in data.items() if values['name'] == country_name]\n",
    "    return iso3[0] if iso3 else None\n",
    "\n",
    "def add_csv_data(file, country_row, data_row, data_name):\n",
    "    X_fields.append(data_name)\n",
    "    with open(file) as csvfile:\n",
    "        reader = csv.reader(csvfile, delimiter=',')\n",
    "        co2_names = [(data[key]['name'], key) for key in data]\n",
    "        for line in reader:\n",
    "            country_key = get_iso3_from_country_name(line[country_row])\n",
    "            if country_key:\n",
    "                data[country_key][data_name] = float(line[data_row])\n",
    "\n",
    "def check_missing_countries(file, country_row):\n",
    "    with open(file) as csvfile:\n",
    "        reader = csv.reader(csvfile, delimiter=',')\n",
    "        co2_names = [data_dict[key]['name'] for key in data_dict]\n",
    "        file_names = [line[country_row] for line in reader]\n",
    "        return [name for name in co2_names if name not in file_names]\n",
    "\n",
    "add_csv_data('gini-index.csv', 1, -2, 'gini_index')\n",
    "add_csv_data('hdi.csv', 1, -2, 'hdi')\n",
    "add_csv_data('urban-population.csv', 1, -2, 'urban_population')\n",
    "add_csv_data('forest-area-change.csv', 1, -2, 'forest_area_change')\n",
    "add_csv_data('fossil-fuel-percentage.csv', 1, -2, 'fossil_fuel_percentage')\n",
    "add_csv_data('natural-resource-depletion.csv', 1, -2, 'natural_resource_depletion')\n",
    "add_csv_data('gender-inequality-index.csv', 1, -2, 'gender_inequality_index')\n",
    "add_csv_data('life-expectancy.csv', 1, -2, 'life_expectancy')\n",
    "add_csv_data('poverty-line.csv', 1, -2, 'poverty_line')\n",
    "add_csv_data('research-and-development.csv', 1, -2, 'research_and_development')\n",
    "add_csv_data('education-health-military-expenses.csv', 1, -2, 'education_health_military_expenses')\n",
    "add_csv_data('exports-imports.csv', 1, -2, 'exports_imports')\n",
    "add_csv_data('unemployment.csv', 1, -2, 'unemployment')\n",
    "add_csv_data('democracy.csv', 4, 10, 'democracy')\n",
    "add_csv_data('press-freedom.csv', 3, 7, 'press_freedom')\n",
    "\n",
    "print('Países:', len(data.keys()))"
   ]
  },
  {
   "cell_type": "code",
   "execution_count": 2,
   "id": "cf93cef1",
   "metadata": {},
   "outputs": [
    {
     "name": "stdout",
     "output_type": "stream",
     "text": [
      "Training countries: ['Niger', 'Myanmar', 'Zambia', 'North Macedonia', 'Sudan', 'Costa Rica', 'Germany', 'Togo', 'Azerbaijan', 'Turkmenistan', 'Georgia', 'Tanzania', 'Sao Tome and Principe', 'Guinea-Bissau', 'Haiti', 'United Kingdom', 'Canada', 'Taiwan', 'Slovakia', 'Bulgaria', 'Mexico', 'South Africa', 'Bosnia and Herzegovina', 'Honduras', 'North Korea', 'Djibouti', 'India', 'Cambodia', 'Yemen', 'Japan', 'Rwanda', 'Laos', 'Saint Lucia', 'Chad', 'Montenegro', 'Russia', 'Tunisia', 'Hong Kong', 'Nigeria', 'Brazil', 'Israel', 'Colombia', 'Libya', 'Jamaica', 'Oman', 'Algeria', 'Guinea', 'Lithuania', 'Turkey', 'Ecuador', 'Bangladesh', 'Malta', 'Uzbekistan', 'Mozambique', 'Mauritania', 'Lesotho', 'Sierra Leone', 'Uruguay', 'Finland', 'Portugal', 'Trinidad and Tobago', 'Hungary', 'Norway', 'Pakistan', 'Iraq', 'Ethiopia', 'Eswatini', 'Belgium', 'Romania', 'Cameroon', 'Philippines', 'Burkina Faso', 'Bolivia', 'Kuwait', 'Gabon', 'Kazakhstan', 'Angola', 'Zimbabwe', 'Mongolia', 'Australia', 'Iran', 'Jordan', 'Liberia', 'Poland', 'Belarus', 'Serbia', 'Ukraine', 'Benin', 'Afghanistan', 'Mali', 'Switzerland', 'Equatorial Guinea', 'Barbados', 'Namibia', 'Cuba', 'Greece', 'Dominica', 'Vietnam', 'Iceland', 'Albania', 'Slovenia', 'Uganda', 'Dominican Republic', 'New Zealand', 'Argentina', 'Syria', 'Botswana', 'Paraguay', 'Netherlands', 'Democratic Republic of Congo', 'Armenia', 'Gambia', 'Seychelles', 'Senegal', 'Croatia', 'Chile', 'Palestine', 'Comoros', 'Sri Lanka', 'Saudi Arabia', 'Tajikistan', 'Congo', 'China', 'Morocco', 'Lebanon', 'Kyrgyzstan', 'Panama', 'Venezuela', 'Italy', 'Kenya', 'Cape Verde', 'Latvia', 'United Arab Emirates', 'United States', 'Denmark', 'Guatemala', 'Sweden', 'Madagascar', 'Ireland', 'Luxembourg', 'Cyprus', 'Burundi', 'Bahrain', 'Nepal', 'Indonesia', 'Peru', 'Estonia']\n",
      "Testing countries: ['Thailand', 'Malawi', 'Nicaragua', 'Austria', 'Mauritius', 'Ghana', 'South Korea', 'El Salvador', 'Central African Republic', 'Egypt', 'Spain', 'Moldova', 'Singapore', 'France', 'Malaysia', 'Qatar', 'Czechia']\n"
     ]
    }
   ],
   "source": [
    "import numpy as np\n",
    "from sklearn.impute import SimpleImputer\n",
    "from sklearn.model_selection import train_test_split\n",
    "\n",
    "countries = []\n",
    "X = []\n",
    "y = []\n",
    "for values in data.values():\n",
    "    countries.append(values['name'])\n",
    "    y.append(values['co2_emissions'])\n",
    "    X.append([values[field] if field in values else np.nan for field in X_fields])\n",
    "\n",
    "imp = SimpleImputer(missing_values=np.nan, strategy='mean')\n",
    "X = imp.fit_transform(X)\n",
    "y = np.array(y)\n",
    "\n",
    "X_train, X_test, y_train, y_test, countries_train, countries_test \\\n",
    "        = train_test_split(X, y, countries, test_size=0.1, random_state=0)\n",
    "\n",
    "print(\"Training countries:\", countries_train)\n",
    "print(\"Testing countries:\", countries_test)"
   ]
  }
 ],
 "metadata": {
  "kernelspec": {
   "display_name": "Python 3",
   "language": "python",
   "name": "python3"
  },
  "language_info": {
   "codemirror_mode": {
    "name": "ipython",
    "version": 3
   },
   "file_extension": ".py",
   "mimetype": "text/x-python",
   "name": "python",
   "nbconvert_exporter": "python",
   "pygments_lexer": "ipython3",
   "version": "3.8.10"
  }
 },
 "nbformat": 4,
 "nbformat_minor": 5
}
